{
 "cells": [
  {
   "cell_type": "markdown",
   "id": "d1867791-28c5-4c5b-87e3-799f74295f2a",
   "metadata": {},
   "source": [
    "## 1.1解压序列赋值给多变量"
   ]
  },
  {
   "cell_type": "code",
   "execution_count": 5,
   "id": "dd7c014f-f871-42ea-99b0-2305889b2f08",
   "metadata": {
    "tags": []
   },
   "outputs": [
    {
     "name": "stdout",
     "output_type": "stream",
     "text": [
      "4 5\n"
     ]
    }
   ],
   "source": [
    "p = (4, 5)\n",
    "x,y=p\n",
    "print(x,y)"
   ]
  },
  {
   "cell_type": "code",
   "execution_count": 6,
   "id": "01e964eb-1884-4873-a69c-6f1a8a0df967",
   "metadata": {
    "tags": []
   },
   "outputs": [],
   "source": [
    "data = [ 'ACME', 50, 91.1, (2012, 12, 21) ]"
   ]
  },
  {
   "cell_type": "code",
   "execution_count": 7,
   "id": "582da50e-a5ab-4b63-9a07-2b0209ccfc78",
   "metadata": {
    "tags": []
   },
   "outputs": [],
   "source": [
    "name, shares, price, date = data"
   ]
  },
  {
   "cell_type": "code",
   "execution_count": 8,
   "id": "2e567210-e9f2-444a-a3ed-9523257ac360",
   "metadata": {
    "tags": []
   },
   "outputs": [
    {
     "data": {
      "text/plain": [
       "(2012, 12, 21)"
      ]
     },
     "execution_count": 8,
     "metadata": {},
     "output_type": "execute_result"
    }
   ],
   "source": [
    "date"
   ]
  },
  {
   "cell_type": "markdown",
   "id": "13b6991c-a5e3-4792-b41a-6c0fa15f590a",
   "metadata": {},
   "source": [
    "如果变量个数和序列元素的个数不匹配，会产生一个异常。"
   ]
  },
  {
   "cell_type": "markdown",
   "id": "4a8edf53-b750-4318-a9b5-695b6d8a18f5",
   "metadata": {},
   "source": [
    "这种解压赋值可以用在任何可迭代对象上面，而不仅仅是列表或者元组。包括字符串，文件对象，迭代器和生成器。"
   ]
  },
  {
   "cell_type": "code",
   "execution_count": 9,
   "id": "76f3baa5-73e9-44f3-849e-c6983758947a",
   "metadata": {
    "tags": []
   },
   "outputs": [],
   "source": [
    " s = 'Hello'"
   ]
  },
  {
   "cell_type": "code",
   "execution_count": 10,
   "id": "a5dc216f-8c3c-4f4d-8e3a-0d03c99f2efb",
   "metadata": {
    "tags": []
   },
   "outputs": [],
   "source": [
    "a, b, c, d, e = s"
   ]
  },
  {
   "cell_type": "markdown",
   "id": "d63b4cc3-21ae-47b9-9fbf-1b5c2272332d",
   "metadata": {},
   "source": [
    "占位符"
   ]
  },
  {
   "cell_type": "code",
   "execution_count": 12,
   "id": "540942e5-9b78-4e48-b922-aafecdf34411",
   "metadata": {
    "tags": []
   },
   "outputs": [
    {
     "data": {
      "text/plain": [
       "50"
      ]
     },
     "execution_count": 12,
     "metadata": {},
     "output_type": "execute_result"
    }
   ],
   "source": [
    "data = [ 'ACME', 50, 91.1, (2012, 12, 21) ]\n",
    "_, shares, price, _ = data\n",
    "shares"
   ]
  },
  {
   "cell_type": "code",
   "execution_count": null,
   "id": "37eff543-4fbc-4b36-8d57-1d749d726c36",
   "metadata": {},
   "outputs": [],
   "source": []
  }
 ],
 "metadata": {
  "kernelspec": {
   "display_name": "pythoncook",
   "language": "python",
   "name": "pythoncook"
  },
  "language_info": {
   "codemirror_mode": {
    "name": "ipython",
    "version": 3
   },
   "file_extension": ".py",
   "mimetype": "text/x-python",
   "name": "python",
   "nbconvert_exporter": "python",
   "pygments_lexer": "ipython3",
   "version": "3.11.3"
  }
 },
 "nbformat": 4,
 "nbformat_minor": 5
}
